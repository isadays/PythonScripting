{
  "nbformat": 4,
  "nbformat_minor": 0,
  "metadata": {
    "colab": {
      "provenance": []
    },
    "kernelspec": {
      "name": "python3",
      "display_name": "Python 3"
    },
    "language_info": {
      "name": "python"
    }
  },
  "cells": [
    {
      "cell_type": "code",
      "source": [
        "!pip install faker"
      ],
      "metadata": {
        "id": "tFUyOL6nDYLZ"
      },
      "execution_count": null,
      "outputs": []
    },
    {
      "cell_type": "code",
      "execution_count": null,
      "metadata": {
        "id": "Z3mwY_DqBWLp"
      },
      "outputs": [],
      "source": [
        "import sqlite3\n",
        "from faker import Faker\n",
        "fake = Faker()\n",
        "names = [fake.name().split() for i in range(100)]\n",
        "names = [name for name in names if len(name) == 2]"
      ]
    },
    {
      "cell_type": "code",
      "source": [
        "connection = sqlite3.connect('database.db')"
      ],
      "metadata": {
        "id": "UT-Q2n6VBZNU"
      },
      "execution_count": null,
      "outputs": []
    },
    {
      "cell_type": "code",
      "source": [
        "table = 'CREATE TABLE people (id integer primary key, name TEXT, surname TEXT)'\n",
        "cursor = connection.cursor()\n",
        "cursor.execute(table)\n",
        "connection.commit()"
      ],
      "metadata": {
        "id": "bpQK_VlLBfNK"
      },
      "execution_count": null,
      "outputs": []
    },
    {
      "cell_type": "code",
      "source": [
        "import pandas as pd\n",
        "con = sqlite3.connect('database.db')\n",
        "insert_query = 'INSERT INTO people(name, surname) VALUES (?,?)'\n",
        "cursor = con.cursor()\n",
        "for name in names:\n",
        "  cursor.execute(insert_query, name)\n",
        "  con.commit()"
      ],
      "metadata": {
        "id": "sroQHI7EBwuJ"
      },
      "execution_count": null,
      "outputs": []
    },
    {
      "cell_type": "code",
      "source": [
        "filtered_data = pd.read_sql_query(\"SELECT * FROM people\",con)\n",
        "filtered_data\n",
        "#or\n",
        "#selected_query = \"SELECT * FROM people\"\n",
        "#for i in cursor.execute(selected_query):\n",
        "#  print(i)\n"
      ],
      "metadata": {
        "id": "3gFqY8qpCiYR"
      },
      "execution_count": null,
      "outputs": []
    }
  ]
}