{
  "nbformat": 4,
  "nbformat_minor": 0,
  "metadata": {
    "colab": {
      "provenance": []
    },
    "kernelspec": {
      "name": "python3",
      "display_name": "Python 3"
    },
    "language_info": {
      "name": "python"
    }
  },
  "cells": [
    {
      "cell_type": "code",
      "source": [
        "!pip install faker"
      ],
      "metadata": {
        "id": "tFUyOL6nDYLZ"
      },
      "execution_count": null,
      "outputs": []
    },
    {
      "cell_type": "code",
      "execution_count": null,
      "metadata": {
        "id": "Z3mwY_DqBWLp"
      },
      "outputs": [],
      "source": [
        "import sqlite3\n",
        "from faker import Faker\n",
        "fake = Faker()\n",
        "names = [fake.name().split() for i in range(100)]\n",
        "names = [name for name in names if len(name) == 2]"
      ]
    },
    {
      "cell_type": "code",
      "source": [
        "connection = sqlite3.connect('database.db')"
      ],
      "metadata": {
        "id": "UT-Q2n6VBZNU"
      },
      "execution_count": null,
      "outputs": []
    },
    {
      "cell_type": "code",
      "source": [
        "table = 'CREATE TABLE people (id integer primary key, name TEXT, surname TEXT)'\n",
        "cursor = connection.cursor()\n",
        "cursor.execute(table)\n",
        "connection.commit()"
      ],
      "metadata": {
        "id": "bpQK_VlLBfNK"
      },
      "execution_count": null,
      "outputs": []
    },
    {
      "cell_type": "code",
      "source": [
        "import pandas as pd\n",
        "con = sqlite3.connect('database.db')\n",
        "insert_query = 'INSERT INTO people(name, surname) VALUES (?,?)'\n",
        "cursor = con.cursor()\n",
        "for name in names:\n",
        "  cursor.execute(insert_query, name)\n",
        "  con.commit()"
      ],
      "metadata": {
        "id": "sroQHI7EBwuJ"
      },
      "execution_count": null,
      "outputs": []
    },
    {
      "cell_type": "code",
      "source": [
        "filtered_data = pd.read_sql_query(\"SELECT * FROM people\",con)\n",
        "filtered_data\n",
        "#or\n",
        "#selected_query = \"SELECT * FROM people\"\n",
        "#for i in cursor.execute(selected_query):\n",
        "#  print(i)\n"
      ],
      "metadata": {
        "id": "3gFqY8qpCiYR"
      },
      "execution_count": null,
      "outputs": []
    },
    {
      "cell_type": "code",
      "source": [
        "query = 'SELECT name,surname FROM people ORDER BY name DESC'\n",
        "for result in cursor.execute(query):\n",
        "  print(result)"
      ],
      "metadata": {
        "colab": {
          "base_uri": "https://localhost:8080/"
        },
        "id": "118Bqd1OF7Xq",
        "outputId": "ed8c25a6-e455-4332-ed9f-e6b2df56f705"
      },
      "execution_count": 30,
      "outputs": [
        {
          "output_type": "stream",
          "name": "stdout",
          "text": [
            "('Willie', 'Jones')\n",
            "('William', 'Spears')\n",
            "('William', 'Cox')\n",
            "('Valerie', 'Martinez')\n",
            "('Tyler', 'Waters')\n",
            "('Tyler', 'Lopez')\n",
            "('Trevor', 'White')\n",
            "('Timothy', 'Thomas')\n",
            "('Tammy', 'Fields')\n",
            "('Tammy', 'Huber')\n",
            "('Stephen', 'Williams')\n",
            "('Stephanie', 'Coleman')\n",
            "('Sarah', 'Perez')\n",
            "('Sandra', 'Thomas')\n",
            "('Samuel', 'Shelton')\n",
            "('Ryan', 'Kline')\n",
            "('Robert', 'Graham')\n",
            "('Robert', 'Bass')\n",
            "('Paul', 'Green')\n",
            "('Nicole', 'Brown')\n",
            "('Nicholas', 'Conner')\n",
            "('Monica', 'Holt')\n",
            "('Michelle', 'Lewis')\n",
            "('Michael', 'Vega')\n",
            "('Michael', 'Hodge')\n",
            "('Melissa', 'Bell')\n",
            "('Melissa', 'Rubio')\n",
            "('Melinda', 'Dudley')\n",
            "('Melanie', 'Harrison')\n",
            "('Matthew', 'Valenzuela')\n",
            "('Matthew', 'Lewis')\n",
            "('Mason', 'Martin')\n",
            "('Mary', 'Garcia')\n",
            "('Margaret', 'Carr')\n",
            "('Logan', 'Lucas')\n",
            "('Lisa', 'Bishop')\n",
            "('Linda', 'Hunt')\n",
            "('Lauren', 'Harris')\n",
            "('Lauren', 'Silva')\n",
            "('Laura', 'Reed')\n",
            "('Kevin', 'Nichols')\n",
            "('Kevin', 'Warner')\n",
            "('Kevin', 'King')\n",
            "('Kerri', 'Stanley')\n",
            "('Kenneth', 'Petersen')\n",
            "('Kelly', 'Phillips')\n",
            "('Keith', 'Bautista')\n",
            "('Karen', 'Greer')\n",
            "('Justin', 'Townsend')\n",
            "('Julie', 'Roy')\n",
            "('Joshua', 'Williams')\n",
            "('Jon', 'Schroeder')\n",
            "('Joel', 'Young')\n",
            "('Jo', 'Campos')\n",
            "('Jill', 'Guerra')\n",
            "('Jessica', 'Bryant')\n",
            "('Jeremy', 'Fuller')\n",
            "('Jennifer', 'Harris')\n",
            "('Jamie', 'Stewart')\n",
            "('Jaime', 'Lopez')\n",
            "('Jacob', 'Smith')\n",
            "('Ivan', 'Rogers')\n",
            "('Ian', 'Hanson')\n",
            "('Henry', 'Schultz')\n",
            "('Henry', 'Foley')\n",
            "('Heather', 'Martinez')\n",
            "('Erin', 'Wong')\n",
            "('Emily', 'Lynn')\n",
            "('Elizabeth', 'Thompson')\n",
            "('Diana', 'Schmidt')\n",
            "('Dennis', 'Allen')\n",
            "('Debra', 'Lee')\n",
            "('Debra', 'Harris')\n",
            "('Deborah', 'Velasquez')\n",
            "('Dawn', 'Nguyen')\n",
            "('Dawn', 'Mcclain')\n",
            "('David', 'Bell')\n",
            "('David', 'Vaughn')\n",
            "('David', 'Russell')\n",
            "('Daniel', 'Johnson')\n",
            "('Daniel', 'Moore')\n",
            "('Cynthia', 'Livingston')\n",
            "('Cynthia', 'Patton')\n",
            "('Charles', 'Cohen')\n",
            "('Catherine', 'Reed')\n",
            "('Carly', 'Murphy')\n",
            "('Brian', 'Daniels')\n",
            "('Beth', 'Chavez')\n",
            "('April', 'Richardson')\n",
            "('Anna', 'Martin')\n",
            "('Andrew', 'Hammond')\n",
            "('Amy', 'Ferguson')\n",
            "('Allen', 'Wolf')\n",
            "('Alexander', 'Bryan')\n",
            "('Alan', 'Brown')\n",
            "('Adam', 'Wagner')\n"
          ]
        }
      ]
    },
    {
      "cell_type": "code",
      "source": [
        "query = 'SELECT name,surname FROM people WHERE name=\"Kevin\"'\n",
        "for result in cursor.execute(query):\n",
        "  print(f\"First name: {result[0]}, Lastname: {result[1]}\")"
      ],
      "metadata": {
        "colab": {
          "base_uri": "https://localhost:8080/"
        },
        "id": "5Pz5gqkwGefh",
        "outputId": "096bea6d-9da9-4608-f5fd-7c0c60ca11cb"
      },
      "execution_count": 33,
      "outputs": [
        {
          "output_type": "stream",
          "name": "stdout",
          "text": [
            "First name: Kevin, Lastname: Nichols\n",
            "First name: Kevin, Lastname: Warner\n",
            "First name: Kevin, Lastname: King\n"
          ]
        }
      ]
    },
    {
      "cell_type": "code",
      "source": [],
      "metadata": {
        "id": "Ffu8UlpBG1mQ"
      },
      "execution_count": null,
      "outputs": []
    }
  ]
}